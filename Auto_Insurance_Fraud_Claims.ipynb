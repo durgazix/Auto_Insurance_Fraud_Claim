{
  "nbformat": 4,
  "nbformat_minor": 0,
  "metadata": {
    "colab": {
      "provenance": []
    },
    "kernelspec": {
      "name": "python3",
      "display_name": "Python 3"
    },
    "language_info": {
      "name": "python"
    }
  },
  "cells": [
    {
      "cell_type": "code",
      "execution_count": 9,
      "metadata": {
        "id": "gzkr9IMe7PTy"
      },
      "outputs": [],
      "source": [
        "import pandas as pd\n",
        "import numpy as np\n",
        "import matplotlib.pyplot as plt\n",
        "import seaborn as sns\n",
        "from sklearn.model_selection import train_test_split\n",
        "from sklearn.ensemble import RandomForestClassifier\n",
        "from sklearn.metrics import classification_report, confusion_matrix, roc_auc_score\n",
        "import joblib"
      ]
    },
    {
      "cell_type": "code",
      "source": [
        "import pandas as pd\n",
        "\n",
        "df = pd.read_csv(\"Auto_Insurance_Fraud_Claims_File002.csv\")\n",
        "print(df.shape)\n",
        "print(df.columns)\n",
        "df.head()\n",
        "df.isnull().sum().sort_values(ascending=False)"
      ],
      "metadata": {
        "colab": {
          "base_uri": "https://localhost:8080/",
          "height": 1000
        },
        "id": "SnJt_eU_8d66",
        "outputId": "c16f767c-c929-4f27-c013-0efa3540e412"
      },
      "execution_count": 10,
      "outputs": [
        {
          "output_type": "stream",
          "name": "stdout",
          "text": [
            "(20000, 53)\n",
            "Index(['Claim_ID', 'Bind_Date1', 'Customer_Life_Value1', 'Age_Insured',\n",
            "       'Policy_Num', 'Policy_State', 'Policy_Start_Date', 'Policy_Expiry_Date',\n",
            "       'Policy_BI', 'Policy_Ded', 'Policy_Premium', 'Umbrella_Limit',\n",
            "       'Insured_Zip', 'Gender', 'Education', 'Occupation', 'Hobbies',\n",
            "       'Insured_Relationship', 'Capital_Gains', 'Capital_Loss',\n",
            "       'Garage_Location', 'Accident_Date', 'Accident_Type', 'Collision_Type',\n",
            "       'Accident_Severity', 'authorities_contacted', 'Acccident_State',\n",
            "       'Acccident_City', 'Accident_Location', 'Accident_Hour',\n",
            "       'Num_of_Vehicles_Involved', 'Property_Damage', 'Bodily_Injuries',\n",
            "       'Witnesses', 'Police_Report', 'DL_Expiry_Date', 'Claims_Date',\n",
            "       'Auto_Make', 'Auto_Model', 'Auto_Year', 'Vehicle_Color', 'Vehicle_Cost',\n",
            "       'Annual_Mileage', 'DiffIN_Mileage', 'Low_Mileage_Discount', 'Fraud_Ind',\n",
            "       'Commute_Discount', 'Total_Claim', 'Injury_Claim', 'Property_Claim',\n",
            "       'Vehicle_Claim', 'Vehicle_Registration', 'Check_Point'],\n",
            "      dtype='object')\n"
          ]
        },
        {
          "output_type": "execute_result",
          "data": {
            "text/plain": [
              "Police_Report               7092\n",
              "authorities_contacted       2005\n",
              "Customer_Life_Value1           0\n",
              "Bind_Date1                     0\n",
              "Claim_ID                       0\n",
              "Policy_State                   0\n",
              "Policy_Start_Date              0\n",
              "Policy_Expiry_Date             0\n",
              "Policy_BI                      0\n",
              "Policy_Ded                     0\n",
              "Policy_Premium                 0\n",
              "Umbrella_Limit                 0\n",
              "Insured_Zip                    0\n",
              "Gender                         0\n",
              "Education                      0\n",
              "Occupation                     0\n",
              "Hobbies                        0\n",
              "Insured_Relationship           0\n",
              "Capital_Gains                  0\n",
              "Age_Insured                    0\n",
              "Policy_Num                     0\n",
              "Garage_Location                0\n",
              "Capital_Loss                   0\n",
              "Collision_Type                 0\n",
              "Accident_Date                  0\n",
              "Accident_Severity              0\n",
              "Acccident_State                0\n",
              "Acccident_City                 0\n",
              "Accident_Type                  0\n",
              "Accident_Location              0\n",
              "Accident_Hour                  0\n",
              "Property_Damage                0\n",
              "Num_of_Vehicles_Involved       0\n",
              "Bodily_Injuries                0\n",
              "Witnesses                      0\n",
              "DL_Expiry_Date                 0\n",
              "Claims_Date                    0\n",
              "Auto_Make                      0\n",
              "Auto_Model                     0\n",
              "Auto_Year                      0\n",
              "Vehicle_Color                  0\n",
              "Vehicle_Cost                   0\n",
              "Annual_Mileage                 0\n",
              "DiffIN_Mileage                 0\n",
              "Low_Mileage_Discount           0\n",
              "Fraud_Ind                      0\n",
              "Commute_Discount               0\n",
              "Total_Claim                    0\n",
              "Injury_Claim                   0\n",
              "Property_Claim                 0\n",
              "Vehicle_Claim                  0\n",
              "Vehicle_Registration           0\n",
              "Check_Point                    0\n",
              "dtype: int64"
            ],
            "text/html": [
              "<div>\n",
              "<style scoped>\n",
              "    .dataframe tbody tr th:only-of-type {\n",
              "        vertical-align: middle;\n",
              "    }\n",
              "\n",
              "    .dataframe tbody tr th {\n",
              "        vertical-align: top;\n",
              "    }\n",
              "\n",
              "    .dataframe thead th {\n",
              "        text-align: right;\n",
              "    }\n",
              "</style>\n",
              "<table border=\"1\" class=\"dataframe\">\n",
              "  <thead>\n",
              "    <tr style=\"text-align: right;\">\n",
              "      <th></th>\n",
              "      <th>0</th>\n",
              "    </tr>\n",
              "  </thead>\n",
              "  <tbody>\n",
              "    <tr>\n",
              "      <th>Police_Report</th>\n",
              "      <td>7092</td>\n",
              "    </tr>\n",
              "    <tr>\n",
              "      <th>authorities_contacted</th>\n",
              "      <td>2005</td>\n",
              "    </tr>\n",
              "    <tr>\n",
              "      <th>Customer_Life_Value1</th>\n",
              "      <td>0</td>\n",
              "    </tr>\n",
              "    <tr>\n",
              "      <th>Bind_Date1</th>\n",
              "      <td>0</td>\n",
              "    </tr>\n",
              "    <tr>\n",
              "      <th>Claim_ID</th>\n",
              "      <td>0</td>\n",
              "    </tr>\n",
              "    <tr>\n",
              "      <th>Policy_State</th>\n",
              "      <td>0</td>\n",
              "    </tr>\n",
              "    <tr>\n",
              "      <th>Policy_Start_Date</th>\n",
              "      <td>0</td>\n",
              "    </tr>\n",
              "    <tr>\n",
              "      <th>Policy_Expiry_Date</th>\n",
              "      <td>0</td>\n",
              "    </tr>\n",
              "    <tr>\n",
              "      <th>Policy_BI</th>\n",
              "      <td>0</td>\n",
              "    </tr>\n",
              "    <tr>\n",
              "      <th>Policy_Ded</th>\n",
              "      <td>0</td>\n",
              "    </tr>\n",
              "    <tr>\n",
              "      <th>Policy_Premium</th>\n",
              "      <td>0</td>\n",
              "    </tr>\n",
              "    <tr>\n",
              "      <th>Umbrella_Limit</th>\n",
              "      <td>0</td>\n",
              "    </tr>\n",
              "    <tr>\n",
              "      <th>Insured_Zip</th>\n",
              "      <td>0</td>\n",
              "    </tr>\n",
              "    <tr>\n",
              "      <th>Gender</th>\n",
              "      <td>0</td>\n",
              "    </tr>\n",
              "    <tr>\n",
              "      <th>Education</th>\n",
              "      <td>0</td>\n",
              "    </tr>\n",
              "    <tr>\n",
              "      <th>Occupation</th>\n",
              "      <td>0</td>\n",
              "    </tr>\n",
              "    <tr>\n",
              "      <th>Hobbies</th>\n",
              "      <td>0</td>\n",
              "    </tr>\n",
              "    <tr>\n",
              "      <th>Insured_Relationship</th>\n",
              "      <td>0</td>\n",
              "    </tr>\n",
              "    <tr>\n",
              "      <th>Capital_Gains</th>\n",
              "      <td>0</td>\n",
              "    </tr>\n",
              "    <tr>\n",
              "      <th>Age_Insured</th>\n",
              "      <td>0</td>\n",
              "    </tr>\n",
              "    <tr>\n",
              "      <th>Policy_Num</th>\n",
              "      <td>0</td>\n",
              "    </tr>\n",
              "    <tr>\n",
              "      <th>Garage_Location</th>\n",
              "      <td>0</td>\n",
              "    </tr>\n",
              "    <tr>\n",
              "      <th>Capital_Loss</th>\n",
              "      <td>0</td>\n",
              "    </tr>\n",
              "    <tr>\n",
              "      <th>Collision_Type</th>\n",
              "      <td>0</td>\n",
              "    </tr>\n",
              "    <tr>\n",
              "      <th>Accident_Date</th>\n",
              "      <td>0</td>\n",
              "    </tr>\n",
              "    <tr>\n",
              "      <th>Accident_Severity</th>\n",
              "      <td>0</td>\n",
              "    </tr>\n",
              "    <tr>\n",
              "      <th>Acccident_State</th>\n",
              "      <td>0</td>\n",
              "    </tr>\n",
              "    <tr>\n",
              "      <th>Acccident_City</th>\n",
              "      <td>0</td>\n",
              "    </tr>\n",
              "    <tr>\n",
              "      <th>Accident_Type</th>\n",
              "      <td>0</td>\n",
              "    </tr>\n",
              "    <tr>\n",
              "      <th>Accident_Location</th>\n",
              "      <td>0</td>\n",
              "    </tr>\n",
              "    <tr>\n",
              "      <th>Accident_Hour</th>\n",
              "      <td>0</td>\n",
              "    </tr>\n",
              "    <tr>\n",
              "      <th>Property_Damage</th>\n",
              "      <td>0</td>\n",
              "    </tr>\n",
              "    <tr>\n",
              "      <th>Num_of_Vehicles_Involved</th>\n",
              "      <td>0</td>\n",
              "    </tr>\n",
              "    <tr>\n",
              "      <th>Bodily_Injuries</th>\n",
              "      <td>0</td>\n",
              "    </tr>\n",
              "    <tr>\n",
              "      <th>Witnesses</th>\n",
              "      <td>0</td>\n",
              "    </tr>\n",
              "    <tr>\n",
              "      <th>DL_Expiry_Date</th>\n",
              "      <td>0</td>\n",
              "    </tr>\n",
              "    <tr>\n",
              "      <th>Claims_Date</th>\n",
              "      <td>0</td>\n",
              "    </tr>\n",
              "    <tr>\n",
              "      <th>Auto_Make</th>\n",
              "      <td>0</td>\n",
              "    </tr>\n",
              "    <tr>\n",
              "      <th>Auto_Model</th>\n",
              "      <td>0</td>\n",
              "    </tr>\n",
              "    <tr>\n",
              "      <th>Auto_Year</th>\n",
              "      <td>0</td>\n",
              "    </tr>\n",
              "    <tr>\n",
              "      <th>Vehicle_Color</th>\n",
              "      <td>0</td>\n",
              "    </tr>\n",
              "    <tr>\n",
              "      <th>Vehicle_Cost</th>\n",
              "      <td>0</td>\n",
              "    </tr>\n",
              "    <tr>\n",
              "      <th>Annual_Mileage</th>\n",
              "      <td>0</td>\n",
              "    </tr>\n",
              "    <tr>\n",
              "      <th>DiffIN_Mileage</th>\n",
              "      <td>0</td>\n",
              "    </tr>\n",
              "    <tr>\n",
              "      <th>Low_Mileage_Discount</th>\n",
              "      <td>0</td>\n",
              "    </tr>\n",
              "    <tr>\n",
              "      <th>Fraud_Ind</th>\n",
              "      <td>0</td>\n",
              "    </tr>\n",
              "    <tr>\n",
              "      <th>Commute_Discount</th>\n",
              "      <td>0</td>\n",
              "    </tr>\n",
              "    <tr>\n",
              "      <th>Total_Claim</th>\n",
              "      <td>0</td>\n",
              "    </tr>\n",
              "    <tr>\n",
              "      <th>Injury_Claim</th>\n",
              "      <td>0</td>\n",
              "    </tr>\n",
              "    <tr>\n",
              "      <th>Property_Claim</th>\n",
              "      <td>0</td>\n",
              "    </tr>\n",
              "    <tr>\n",
              "      <th>Vehicle_Claim</th>\n",
              "      <td>0</td>\n",
              "    </tr>\n",
              "    <tr>\n",
              "      <th>Vehicle_Registration</th>\n",
              "      <td>0</td>\n",
              "    </tr>\n",
              "    <tr>\n",
              "      <th>Check_Point</th>\n",
              "      <td>0</td>\n",
              "    </tr>\n",
              "  </tbody>\n",
              "</table>\n",
              "</div><br><label><b>dtype:</b> int64</label>"
            ]
          },
          "metadata": {},
          "execution_count": 10
        }
      ]
    },
    {
      "cell_type": "code",
      "source": [
        "missing = df.isnull().sum()\n",
        "missing = missing[missing > 0].sort_values(ascending=False)\n",
        "print(missing)"
      ],
      "metadata": {
        "colab": {
          "base_uri": "https://localhost:8080/"
        },
        "id": "5F41wr9j8eEC",
        "outputId": "65de8c7e-d1b3-465b-b003-a8ec18c0b3ae"
      },
      "execution_count": 11,
      "outputs": [
        {
          "output_type": "stream",
          "name": "stdout",
          "text": [
            "Police_Report            7092\n",
            "authorities_contacted    2005\n",
            "dtype: int64\n"
          ]
        }
      ]
    },
    {
      "cell_type": "code",
      "source": [],
      "metadata": {
        "id": "CqOPG7izIz_F"
      },
      "execution_count": 11,
      "outputs": []
    },
    {
      "cell_type": "code",
      "source": [
        "df['Police_Report'].fillna('Unknown', inplace=True)"
      ],
      "metadata": {
        "colab": {
          "base_uri": "https://localhost:8080/"
        },
        "id": "y6FlyMmR8eHS",
        "outputId": "cf1894c5-93d4-4b7f-fbbf-03b792e58fa9"
      },
      "execution_count": 12,
      "outputs": [
        {
          "output_type": "stream",
          "name": "stderr",
          "text": [
            "/tmp/ipython-input-12-3407690288.py:1: FutureWarning: A value is trying to be set on a copy of a DataFrame or Series through chained assignment using an inplace method.\n",
            "The behavior will change in pandas 3.0. This inplace method will never work because the intermediate object on which we are setting values always behaves as a copy.\n",
            "\n",
            "For example, when doing 'df[col].method(value, inplace=True)', try using 'df.method({col: value}, inplace=True)' or df[col] = df[col].method(value) instead, to perform the operation inplace on the original object.\n",
            "\n",
            "\n",
            "  df['Police_Report'].fillna('Unknown', inplace=True)\n"
          ]
        }
      ]
    },
    {
      "cell_type": "code",
      "source": [
        "df['authorities_contacted'].fillna(df['authorities_contacted'].mode()[0], inplace=True)\n"
      ],
      "metadata": {
        "colab": {
          "base_uri": "https://localhost:8080/"
        },
        "id": "H2D6Ey448eMS",
        "outputId": "bbccc407-ef9d-4106-a106-9c53d677710a"
      },
      "execution_count": 13,
      "outputs": [
        {
          "output_type": "stream",
          "name": "stderr",
          "text": [
            "/tmp/ipython-input-13-210851941.py:1: FutureWarning: A value is trying to be set on a copy of a DataFrame or Series through chained assignment using an inplace method.\n",
            "The behavior will change in pandas 3.0. This inplace method will never work because the intermediate object on which we are setting values always behaves as a copy.\n",
            "\n",
            "For example, when doing 'df[col].method(value, inplace=True)', try using 'df.method({col: value}, inplace=True)' or df[col] = df[col].method(value) instead, to perform the operation inplace on the original object.\n",
            "\n",
            "\n",
            "  df['authorities_contacted'].fillna(df['authorities_contacted'].mode()[0], inplace=True)\n"
          ]
        }
      ]
    },
    {
      "cell_type": "code",
      "source": [
        "df.drop_duplicates(inplace=True)\n"
      ],
      "metadata": {
        "id": "m_iVBhk98ePH"
      },
      "execution_count": 14,
      "outputs": []
    },
    {
      "cell_type": "code",
      "source": [
        "df['Police_Report'] = df['Police_Report'].str.strip().str.lower()"
      ],
      "metadata": {
        "id": "UHyepDYh8eRW"
      },
      "execution_count": 15,
      "outputs": []
    },
    {
      "cell_type": "code",
      "source": [
        "df['authorities_contacted'] = df['authorities_contacted'].str.strip().str.lower()"
      ],
      "metadata": {
        "id": "S19SIfRz8eT1"
      },
      "execution_count": 16,
      "outputs": []
    },
    {
      "cell_type": "code",
      "source": [
        "df['Claims_Date'] = pd.to_datetime(df['Claims_Date'], errors='coerce')"
      ],
      "metadata": {
        "id": "Nyw1NKUx8eY3"
      },
      "execution_count": 17,
      "outputs": []
    },
    {
      "cell_type": "code",
      "source": [
        "import seaborn as sns\n",
        "import matplotlib.pyplot as plt\n",
        "\n",
        "sns.countplot(data=df, x='Fraud_Ind', palette='Set2')\n",
        "plt.title(\"Fraud vs Non-Fraud Claims\")\n",
        "plt.xlabel(\"Fraud Indicator (Y = Fraud, N = Non-Fraud)\")\n",
        "plt.ylabel(\"Number of Claims\")\n",
        "plt.grid(axis='y')\n",
        "plt.show()"
      ],
      "metadata": {
        "colab": {
          "base_uri": "https://localhost:8080/",
          "height": 579
        },
        "id": "4CXKONKD8ebe",
        "outputId": "a0d4f426-0581-4914-9adc-65beb1caca5a"
      },
      "execution_count": 18,
      "outputs": [
        {
          "output_type": "stream",
          "name": "stderr",
          "text": [
            "/tmp/ipython-input-18-3910751259.py:4: FutureWarning: \n",
            "\n",
            "Passing `palette` without assigning `hue` is deprecated and will be removed in v0.14.0. Assign the `x` variable to `hue` and set `legend=False` for the same effect.\n",
            "\n",
            "  sns.countplot(data=df, x='Fraud_Ind', palette='Set2')\n"
          ]
        },
        {
          "output_type": "display_data",
          "data": {
            "text/plain": [
              "<Figure size 640x480 with 1 Axes>"
            ],
            "image/png": "[encoded data removed]"
          },
          "metadata": {}
        }
      ]
    },
    {
      "cell_type": "code",
      "source": [
        "ax = sns.countplot(data=df, x='Fraud_Ind', palette='Set2')\n",
        "for p in ax.patches:\n",
        "    ax.annotate(f'{p.get_height()}', (p.get_x() + 0.3, p.get_height() + 50))\n",
        "\n",
        "plt.title(\"Fraud vs Non-Fraud Claims\")\n",
        "plt.xlabel(\"Fraud Indicator\")\n",
        "plt.ylabel(\"Count\")\n",
        "plt.show()\n"
      ],
      "metadata": {
        "colab": {
          "base_uri": "https://localhost:8080/",
          "height": 579
        },
        "id": "oFLx7VLXDTfl",
        "outputId": "f9be4662-6e93-41d7-842b-ee8bcb3495ec"
      },
      "execution_count": 19,
      "outputs": [
        {
          "output_type": "stream",
          "name": "stderr",
          "text": [
            "/tmp/ipython-input-19-725191926.py:1: FutureWarning: \n",
            "\n",
            "Passing `palette` without assigning `hue` is deprecated and will be removed in v0.14.0. Assign the `x` variable to `hue` and set `legend=False` for the same effect.\n",
            "\n",
            "  ax = sns.countplot(data=df, x='Fraud_Ind', palette='Set2')\n"
          ]
        },
        {
          "output_type": "display_data",
          "data": {
            "text/plain": [
              "<Figure size 640x480 with 1 Axes>"
            ],
            "image/png": "[encoded data removed]"
          },
          "metadata": {}
        }
      ]
    },
    {
      "cell_type": "code",
      "source": [
        "from scipy import stats\n",
        "import numpy as np\n",
        "\n",
        "numerical_cols = df.select_dtypes(include=[np.number]).columns.tolist()\n",
        "\n",
        "z_scores = np.abs(stats.zscore(df[numerical_cols]))\n",
        "\n",
        "df_cleaned = df[(z_scores < 3).all(axis=1)].copy()\n",
        "\n",
        "print(\"Before removing outliers:\", df.shape)"
      ],
      "metadata": {
        "colab": {
          "base_uri": "https://localhost:8080/"
        },
        "id": "NfFoObndDyTD",
        "outputId": "c17ae5ff-7dcf-4448-92e7-380862d6fbf1"
      },
      "execution_count": 20,
      "outputs": [
        {
          "output_type": "stream",
          "name": "stdout",
          "text": [
            "Before removing outliers: (20000, 53)\n"
          ]
        }
      ]
    },
    {
      "cell_type": "code",
      "source": [
        "print(\"After removing outliers :\", df_cleaned.shape)"
      ],
      "metadata": {
        "colab": {
          "base_uri": "https://localhost:8080/"
        },
        "id": "qDGZkAGaGvmh",
        "outputId": "ad1268f9-ce58-4598-973a-d130d4cc20e7"
      },
      "execution_count": 21,
      "outputs": [
        {
          "output_type": "stream",
          "name": "stdout",
          "text": [
            "After removing outliers : (18588, 53)\n"
          ]
        }
      ]
    },
    {
      "cell_type": "code",
      "source": [
        "df_cleaned['Total_Claim_Check'] = df_cleaned['Injury_Claim'] + df_cleaned['Property_Claim'] + df_cleaned['Vehicle_Claim']"
      ],
      "metadata": {
        "id": "6XohsYmGGztF"
      },
      "execution_count": 22,
      "outputs": []
    },
    {
      "cell_type": "code",
      "source": [
        "df_cleaned['Claim_Ratio'] = df_cleaned['Total_Claim'] / df_cleaned['Vehicle_Cost']"
      ],
      "metadata": {
        "id": "JYs7cXS8H_eC"
      },
      "execution_count": 23,
      "outputs": []
    },
    {
      "cell_type": "code",
      "source": [
        "df_cleaned['Mileage_Deviation'] = df_cleaned['DiffIN_Mileage'] / df_cleaned['Annual_Mileage']"
      ],
      "metadata": {
        "id": "_WrV_Uj5IKfU"
      },
      "execution_count": 24,
      "outputs": []
    },
    {
      "cell_type": "code",
      "source": [
        "df_cleaned['Policy_Expiry_Date'] = pd.to_datetime(df_cleaned['Policy_Expiry_Date'], errors='coerce')\n",
        "df_cleaned['Policy_Start_Date'] = pd.to_datetime(df_cleaned['Policy_Start_Date'], errors='coerce')"
      ],
      "metadata": {
        "id": "lKEzlwJrINq-"
      },
      "execution_count": 25,
      "outputs": []
    },
    {
      "cell_type": "code",
      "source": [
        "df_cleaned['Policy_Duration'] = (df_cleaned['Policy_Expiry_Date'] - df_cleaned['Policy_Start_Date']).dt.days"
      ],
      "metadata": {
        "id": "1gfh_BtkIR_d"
      },
      "execution_count": 26,
      "outputs": []
    },
    {
      "cell_type": "code",
      "source": [
        "date_cols = ['Bind_Date1', 'Policy_Start_Date', 'Policy_Expiry_Date', 'Accident_Date', 'DL_Expiry_Date', 'Claims_Date']\n",
        "\n",
        "for col in date_cols:\n",
        "    df_cleaned[col] = pd.to_datetime(df_cleaned[col], errors='coerce')"
      ],
      "metadata": {
        "id": "KIDHvVNwIwK4"
      },
      "execution_count": 27,
      "outputs": []
    },
    {
      "cell_type": "code",
      "source": [
        "from sklearn.model_selection import train_test_split\n",
        "from sklearn.preprocessing import LabelEncoder\n",
        "from sklearn.linear_model import LogisticRegression\n",
        "from sklearn.metrics import classification_report, confusion_matrix, roc_auc_score\n",
        "\n",
        "drop_cols = ['Claim_ID', 'Policy_Num', 'Vehicle_Registration', 'Check_Point', 'Fraud_Ind']\n",
        "X = df_cleaned.drop(columns=drop_cols)\n",
        "y = df_cleaned['Fraud_Ind']\n",
        "\n",
        "le = LabelEncoder()\n",
        "y = le.fit_transform(y)\n",
        "\n",
        "datetime_cols = ['Bind_Date1', 'Policy_Start_Date', 'Policy_Expiry_Date',\n",
        "                 'Accident_Date', 'DL_Expiry_Date', 'Claims_Date']\n",
        "X = X.drop(columns=datetime_cols)\n",
        "\n",
        "categorical_cols = X.select_dtypes(include='object').columns.tolist()\n",
        "X_encoded = pd.get_dummies(X, columns=categorical_cols, drop_first=True)\n",
        "\n",
        "X_train, X_test, y_train, y_test = train_test_split(\n",
        "    X_encoded, y, stratify=y, test_size=0.2, random_state=42\n",
        ")\n",
        "\n",
        "lr_model = LogisticRegression(max_iter=2000)\n",
        "lr_model.fit(X_train, y_train)\n",
        "\n",
        "y_pred_lr = lr_model.predict(X_test)\n",
        "y_pred_proba = lr_model.predict_proba(X_test)[:, 1]"
      ],
      "metadata": {
        "colab": {
          "base_uri": "https://localhost:8080/"
        },
        "id": "vGs1nf5_I3SQ",
        "outputId": "4acf2d4d-cde7-4f60-b0c6-5f36e4872720"
      },
      "execution_count": 29,
      "outputs": [
        {
          "output_type": "stream",
          "name": "stderr",
          "text": [
            "/usr/local/lib/python3.11/dist-packages/sklearn/linear_model/_logistic.py:465: ConvergenceWarning: lbfgs failed to converge (status=1):\n",
            "STOP: TOTAL NO. OF ITERATIONS REACHED LIMIT.\n",
            "\n",
            "Increase the number of iterations (max_iter) or scale the data as shown in:\n",
            "    https://scikit-learn.org/stable/modules/preprocessing.html\n",
            "Please also refer to the documentation for alternative solver options:\n",
            "    https://scikit-learn.org/stable/modules/linear_model.html#logistic-regression\n",
            "  n_iter_i = _check_optimize_result(\n"
          ]
        }
      ]
    },
    {
      "cell_type": "code",
      "source": [
        "drop_cols = ['Claim_ID', 'Policy_Num', 'Vehicle_Registration', 'Check_Point', 'Fraud_Ind',\n",
        "             'Bind_Date1', 'Policy_Start_Date', 'Policy_Expiry_Date',\n",
        "             'Accident_Date', 'DL_Expiry_Date', 'Claims_Date']\n",
        "\n",
        "X = df_cleaned.drop(columns=drop_cols)\n",
        "y = df_cleaned['Fraud_Ind']\n",
        "\n",
        "from sklearn.preprocessing import LabelEncoder\n",
        "le = LabelEncoder()\n",
        "y = le.fit_transform(y)\n",
        "\n",
        "X = pd.get_dummies(X, drop_first=True)\n",
        "\n",
        "from sklearn.model_selection import train_test_split\n",
        "X_train, X_test, y_train, y_test = train_test_split(X, y, stratify=y, test_size=0.2, random_state=42)\n"
      ],
      "metadata": {
        "id": "k0aj8nOUMNB9"
      },
      "execution_count": 31,
      "outputs": []
    },
    {
      "cell_type": "code",
      "source": [
        "from sklearn.metrics import classification_report, confusion_matrix, roc_auc_score\n",
        "\n",
        "def evaluate_model(name, y_test, y_pred, model=None, proba=None):\n",
        "    print(f\"\\n🔹 {name} 🔹\")\n",
        "    print(\"Confusion Matrix:\")\n",
        "    print(confusion_matrix(y_test, y_pred))\n",
        "    print(\"\\nClassification Report:\")\n",
        "    print(classification_report(y_test, y_pred))\n",
        "    if proba is not None:\n",
        "        print(\"ROC-AUC Score:\", roc_auc_score(y_test, proba))\n"
      ],
      "metadata": {
        "id": "4-ak4pZgO4Tn"
      },
      "execution_count": 32,
      "outputs": []
    },
    {
      "cell_type": "code",
      "source": [
        "from sklearn.linear_model import LogisticRegression\n",
        "\n",
        "lr_model = LogisticRegression(max_iter=1000)\n",
        "lr_model.fit(X_train, y_train)\n",
        "\n",
        "y_pred_lr = lr_model.predict(X_test)\n",
        "y_proba_lr = lr_model.predict_proba(X_test)[:, 1]\n",
        "\n",
        "evaluate_model(\"Logistic Regression\", y_test, y_pred_lr, lr_model, y_proba_lr)\n"
      ],
      "metadata": {
        "colab": {
          "base_uri": "https://localhost:8080/"
        },
        "id": "qGxMeXW3P1dj",
        "outputId": "6cfcf446-ebd4-4f68-ec87-12fae3fb086c"
      },
      "execution_count": 33,
      "outputs": [
        {
          "output_type": "stream",
          "name": "stdout",
          "text": [
            "\n",
            "🔹 Logistic Regression 🔹\n",
            "Confusion Matrix:\n",
            "[[2719    0]\n",
            " [ 999    0]]\n",
            "\n",
            "Classification Report:\n",
            "              precision    recall  f1-score   support\n",
            "\n",
            "           0       0.73      1.00      0.84      2719\n",
            "           1       0.00      0.00      0.00       999\n",
            "\n",
            "    accuracy                           0.73      3718\n",
            "   macro avg       0.37      0.50      0.42      3718\n",
            "weighted avg       0.53      0.73      0.62      3718\n",
            "\n",
            "ROC-AUC Score: 0.5657511133789177\n"
          ]
        },
        {
          "output_type": "stream",
          "name": "stderr",
          "text": [
            "/usr/local/lib/python3.11/dist-packages/sklearn/linear_model/_logistic.py:465: ConvergenceWarning: lbfgs failed to converge (status=1):\n",
            "STOP: TOTAL NO. OF ITERATIONS REACHED LIMIT.\n",
            "\n",
            "Increase the number of iterations (max_iter) or scale the data as shown in:\n",
            "    https://scikit-learn.org/stable/modules/preprocessing.html\n",
            "Please also refer to the documentation for alternative solver options:\n",
            "    https://scikit-learn.org/stable/modules/linear_model.html#logistic-regression\n",
            "  n_iter_i = _check_optimize_result(\n",
            "/usr/local/lib/python3.11/dist-packages/sklearn/metrics/_classification.py:1565: UndefinedMetricWarning: Precision is ill-defined and being set to 0.0 in labels with no predicted samples. Use `zero_division` parameter to control this behavior.\n",
            "  _warn_prf(average, modifier, f\"{metric.capitalize()} is\", len(result))\n",
            "/usr/local/lib/python3.11/dist-packages/sklearn/metrics/_classification.py:1565: UndefinedMetricWarning: Precision is ill-defined and being set to 0.0 in labels with no predicted samples. Use `zero_division` parameter to control this behavior.\n",
            "  _warn_prf(average, modifier, f\"{metric.capitalize()} is\", len(result))\n",
            "/usr/local/lib/python3.11/dist-packages/sklearn/metrics/_classification.py:1565: UndefinedMetricWarning: Precision is ill-defined and being set to 0.0 in labels with no predicted samples. Use `zero_division` parameter to control this behavior.\n",
            "  _warn_prf(average, modifier, f\"{metric.capitalize()} is\", len(result))\n"
          ]
        }
      ]
    },
    {
      "cell_type": "code",
      "source": [
        "from sklearn.tree import DecisionTreeClassifier\n",
        "\n",
        "dt_model = DecisionTreeClassifier(random_state=42)\n",
        "dt_model.fit(X_train, y_train)\n",
        "\n",
        "y_pred_dt = dt_model.predict(X_test)\n",
        "y_proba_dt = dt_model.predict_proba(X_test)[:, 1]\n",
        "\n",
        "evaluate_model(\"Decision Tree\", y_test, y_pred_dt, dt_model, y_proba_dt)\n"
      ],
      "metadata": {
        "colab": {
          "base_uri": "https://localhost:8080/"
        },
        "id": "fiErCqOKRcDS",
        "outputId": "dedd65f1-88a1-4662-dcb6-e8ff8e286e54"
      },
      "execution_count": 34,
      "outputs": [
        {
          "output_type": "stream",
          "name": "stdout",
          "text": [
            "\n",
            "🔹 Decision Tree 🔹\n",
            "Confusion Matrix:\n",
            "[[2719    0]\n",
            " [   0  999]]\n",
            "\n",
            "Classification Report:\n",
            "              precision    recall  f1-score   support\n",
            "\n",
            "           0       1.00      1.00      1.00      2719\n",
            "           1       1.00      1.00      1.00       999\n",
            "\n",
            "    accuracy                           1.00      3718\n",
            "   macro avg       1.00      1.00      1.00      3718\n",
            "weighted avg       1.00      1.00      1.00      3718\n",
            "\n",
            "ROC-AUC Score: 1.0\n"
          ]
        }
      ]
    },
    {
      "cell_type": "code",
      "source": [
        "from sklearn.ensemble import RandomForestClassifier\n",
        "\n",
        "rf_model = RandomForestClassifier(class_weight='balanced', random_state=42)\n",
        "rf_model.fit(X_train, y_train)\n",
        "\n",
        "y_pred_rf = rf_model.predict(X_test)\n",
        "y_proba_rf = rf_model.predict_proba(X_test)[:, 1]\n",
        "\n",
        "evaluate_model(\"Random Forest\", y_test, y_pred_rf, rf_model, y_proba_rf)\n"
      ],
      "metadata": {
        "colab": {
          "base_uri": "https://localhost:8080/"
        },
        "id": "kxPCrNKLRuGw",
        "outputId": "89474443-c822-4941-a561-ff04945bc15e"
      },
      "execution_count": 35,
      "outputs": [
        {
          "output_type": "stream",
          "name": "stdout",
          "text": [
            "\n",
            "🔹 Random Forest 🔹\n",
            "Confusion Matrix:\n",
            "[[2719    0]\n",
            " [   0  999]]\n",
            "\n",
            "Classification Report:\n",
            "              precision    recall  f1-score   support\n",
            "\n",
            "           0       1.00      1.00      1.00      2719\n",
            "           1       1.00      1.00      1.00       999\n",
            "\n",
            "    accuracy                           1.00      3718\n",
            "   macro avg       1.00      1.00      1.00      3718\n",
            "weighted avg       1.00      1.00      1.00      3718\n",
            "\n",
            "ROC-AUC Score: 1.0\n"
          ]
        }
      ]
    },
    {
      "cell_type": "code",
      "source": [
        "import xgboost as xgb\n",
        "\n",
        "def custom_logloss(preds, dtrain):\n",
        "    labels = dtrain.get_label()\n",
        "    grad = preds - labels\n",
        "    hess = preds * (1.0 - preds)\n",
        "    return grad, hess\n",
        "\n",
        "dtrain = xgb.DMatrix(X_train, label=y_train)\n",
        "\n",
        "params = {'max_depth': 3, 'eta': 0.1}\n",
        "bst = xgb.Booster(params, [dtrain])\n",
        "\n",
        "for i in range(100):\n",
        "    bst.update(dtrain, i, fobj=custom_logloss)\n"
      ],
      "metadata": {
        "id": "EhstGKzARyFE"
      },
      "execution_count": 36,
      "outputs": []
    },
    {
      "cell_type": "code",
      "source": [
        "from sklearn.metrics import classification_report, confusion_matrix, roc_auc_score\n",
        "\n",
        "def evaluate_model(name, y_test, y_pred, model=None, proba=None):\n",
        "    print(f\"\\n🔹 {name} 🔹\")\n",
        "    print(\"Confusion Matrix:\")\n",
        "    print(confusion_matrix(y_test, y_pred))\n",
        "    print(\"\\nClassification Report:\")\n",
        "    print(classification_report(y_test, y_pred))\n",
        "    if proba is not None:\n",
        "        print(\"ROC-AUC Score:\", roc_auc_score(y_test, proba))"
      ],
      "metadata": {
        "id": "994GfXEmR2A6"
      },
      "execution_count": 37,
      "outputs": []
    },
    {
      "cell_type": "code",
      "source": [
        "import joblib\n",
        "\n",
        "joblib.dump(rf_model, 'best_fraud_model.pkl')"
      ],
      "metadata": {
        "colab": {
          "base_uri": "https://localhost:8080/"
        },
        "id": "_Kx6VXQuSt1S",
        "outputId": "67eb1170-9627-4744-d0c6-87d1785c5664"
      },
      "execution_count": 38,
      "outputs": [
        {
          "output_type": "execute_result",
          "data": {
            "text/plain": [
              "['best_fraud_model.pkl']"
            ]
          },
          "metadata": {},
          "execution_count": 38
        }
      ]
    },
    {
      "cell_type": "code",
      "source": [
        "model = joblib.load('best_fraud_model.pkl')"
      ],
      "metadata": {
        "id": "YC44Z4O-XDAb"
      },
      "execution_count": 39,
      "outputs": []
    },
    {
      "cell_type": "code",
      "source": [
        "model.predict(X_test)"
      ],
      "metadata": {
        "colab": {
          "base_uri": "https://localhost:8080/"
        },
        "id": "WnAMuEwVXGuN",
        "outputId": "b0771a80-0d10-4116-b6c9-b5de02b4c2f7"
      },
      "execution_count": 40,
      "outputs": [
        {
          "output_type": "execute_result",
          "data": {
            "text/plain": [
              "array([0, 0, 0, ..., 0, 0, 0])"
            ]
          },
          "metadata": {},
          "execution_count": 40
        }
      ]
    },
    {
      "cell_type": "code",
      "source": [
        "import pandas as pd\n",
        "import joblib\n",
        "\n",
        "model = joblib.load(\"best_fraud_model.pkl\")\n",
        "\n",
        "df_test = pd.read_csv(\"Auto_Insurance_Fraud_Claims_Results_Submission.csv\")\n",
        "\n",
        "drop_cols = ['Claim_ID', 'Policy_Num', 'Vehicle_Registration', 'Check_Point',\n",
        "             'Bind_Date1', 'Policy_Start_Date', 'Policy_Expiry_Date',\n",
        "             'Accident_Date', 'DL_Expiry_Date', 'Claims_Date']\n",
        "df_test = df_test.drop(columns=[col for col in drop_cols if col in df_test.columns])\n",
        "\n",
        "df_test = df_test.fillna(0)\n",
        "\n",
        "df_test_encoded = pd.get_dummies(df_test, drop_first=True)\n",
        "\n",
        "expected_cols = model.feature_names_in_\n",
        "df_test_encoded = df_test_encoded.reindex(columns=expected_cols, fill_value=0)\n",
        "\n",
        "y_pred = model.predict(df_test_encoded)\n",
        "\n",
        "y_pred_labels = ['Y' if pred == 1 else 'N' for pred in y_pred]\n",
        "\n",
        "original_test = pd.read_csv(\"Auto_Insurance_Fraud_Claims_Results_Submission.csv\")\n",
        "submission = pd.DataFrame({\n",
        "    'Claim_ID': original_test['Claim_ID'],\n",
        "    'Fraud_Ind': y_pred_labels\n",
        "})\n",
        "\n",
        "submission.to_csv(\"Final_Fraud_Predictions.csv\", index=False)\n",
        "print(\"✅ Predictions saved to 'Final_Fraud_Predictions.csv'\")\n"
      ],
      "metadata": {
        "colab": {
          "base_uri": "https://localhost:8080/"
        },
        "id": "eUgXVr-bXKla",
        "outputId": "e8376617-2e18-4d24-bbc4-f2a6d05675c1"
      },
      "execution_count": 41,
      "outputs": [
        {
          "output_type": "stream",
          "name": "stdout",
          "text": [
            "✅ Predictions saved to 'Final_Fraud_Predictions.csv'\n"
          ]
        }
      ]
    },
    {
      "cell_type": "code",
      "source": [
        "# Load and display the prediction file\n",
        "predictions = pd.read_csv(\"Final_Fraud_Predictions.csv\")\n",
        "\n",
        "# Show the top 10 predictions\n",
        "print(\"🔍 Top 10 Predictions:\")\n",
        "print(predictions.head(10))\n",
        "\n",
        "# Show basic info\n",
        "print(\"\\n📊 Prediction Summary:\")\n",
        "print(predictions['Fraud_Ind'].value_counts())\n"
      ],
      "metadata": {
        "colab": {
          "base_uri": "https://localhost:8080/"
        },
        "id": "3dR6zF4PYgVT",
        "outputId": "b44e8193-998f-411c-9a20-ba7d22dcc237"
      },
      "execution_count": 42,
      "outputs": [
        {
          "output_type": "stream",
          "name": "stdout",
          "text": [
            "🔍 Top 10 Predictions:\n",
            "     Claim_ID Fraud_Ind\n",
            "0  CC00000001         N\n",
            "1  CC00000002         N\n",
            "2  CC00000003         N\n",
            "3  CC00000004         N\n",
            "4  CC00000005         N\n",
            "5  CC00000006         N\n",
            "6  CC00000007         N\n",
            "7  CC00000008         N\n",
            "8  CC00000009         N\n",
            "9  CC00000010         N\n",
            "\n",
            "📊 Prediction Summary:\n",
            "Fraud_Ind\n",
            "N    10000\n",
            "Name: count, dtype: int64\n"
          ]
        }
      ]
    },
    {
      "cell_type": "code",
      "source": [
        "from google.colab import files\n",
        "files.download('Final_Fraud_Predictions.csv')"
      ],
      "metadata": {
        "colab": {
          "base_uri": "https://localhost:8080/",
          "height": 17
        },
        "id": "8g0BgNdYb0RY",
        "outputId": "2769a2e1-02f5-4d91-a353-a7f9de7b6caf"
      },
      "execution_count": 43,
      "outputs": [
        {
          "output_type": "display_data",
          "data": {
            "text/plain": [
              "<IPython.core.display.Javascript object>"
            ],
            "application/javascript": [
              "\n",
              "    async function download(id, filename, size) {\n",
              "      if (!google.colab.kernel.accessAllowed) {\n",
              "        return;\n",
              "      }\n",
              "      const div = document.createElement('div');\n",
              "      const label = document.createElement('label');\n",
              "      label.textContent = `Downloading \"${filename}\": `;\n",
              "      div.appendChild(label);\n",
              "      const progress = document.createElement('progress');\n",
              "      progress.max = size;\n",
              "      div.appendChild(progress);\n",
              "      document.body.appendChild(div);\n",
              "\n",
              "      const buffers = [];\n",
              "      let downloaded = 0;\n",
              "\n",
              "      const channel = await google.colab.kernel.comms.open(id);\n",
              "      // Send a message to notify the kernel that we're ready.\n",
              "      channel.send({})\n",
              "\n",
              "      for await (const message of channel.messages) {\n",
              "        // Send a message to notify the kernel that we're ready.\n",
              "        channel.send({})\n",
              "        if (message.buffers) {\n",
              "          for (const buffer of message.buffers) {\n",
              "            buffers.push(buffer);\n",
              "            downloaded += buffer.byteLength;\n",
              "            progress.value = downloaded;\n",
              "          }\n",
              "        }\n",
              "      }\n",
              "      const blob = new Blob(buffers, {type: 'application/binary'});\n",
              "      const a = document.createElement('a');\n",
              "      a.href = window.URL.createObjectURL(blob);\n",
              "      a.download = filename;\n",
              "      div.appendChild(a);\n",
              "      a.click();\n",
              "      div.remove();\n",
              "    }\n",
              "  "
            ]
          },
          "metadata": {}
        },
        {
          "output_type": "display_data",
          "data": {
            "text/plain": [
              "<IPython.core.display.Javascript object>"
            ],
            "application/javascript": [
              "download(\"download_be2cb8aa-5c3c-4f64-ac9b-7fa6dc0a1d05\", \"Final_Fraud_Predictions.csv\", 130019)"
            ]
          },
          "metadata": {}
        }
      ]
    },
    {
      "cell_type": "code",
      "source": [
        "# Load original test file\n",
        "df_true = pd.read_csv(\"Auto_Insurance_Fraud_Claims_Results_Submission.csv\")\n",
        "print(df_true.columns)"
      ],
      "metadata": {
        "colab": {
          "base_uri": "https://localhost:8080/"
        },
        "id": "PEwgsg5-b-zm",
        "outputId": "6d2f9416-0818-44b7-ceba-d79787fe5bf0"
      },
      "execution_count": 44,
      "outputs": [
        {
          "output_type": "stream",
          "name": "stdout",
          "text": [
            "Index(['Claim_ID', 'Fraud_Ind'], dtype='object')\n"
          ]
        }
      ]
    },
    {
      "cell_type": "code",
      "source": [
        "df_pred = pd.read_csv(\"Final_Fraud_Predictions.csv\")\n",
        "\n",
        "df_true = pd.read_csv(\"Auto_Insurance_Fraud_Claims_Results_Submission.csv\")\n",
        "\n",
        "merged = df_pred.merge(df_true[['Claim_ID', 'Fraud_Ind']], on='Claim_ID', suffixes=('_pred', '_true'))\n",
        "\n",
        "print(merged.head())\n",
        "from sklearn.model_selection import train_test_split\n",
        "from sklearn.ensemble import RandomForestClassifier\n",
        "from sklearn.metrics import accuracy_score, classification_report\n",
        "from sklearn.preprocessing import LabelEncoder\n",
        "import pandas as pd\n",
        "\n",
        "df = pd.read_csv(\"Auto_Insurance_Fraud_Claims_File002.csv\")\n",
        "\n",
        "drop_cols = ['Claim_ID', 'Policy_Num', 'Vehicle_Registration', 'Check_Point', 'Fraud_Ind',\n",
        "             'Bind_Date1', 'Policy_Start_Date', 'Policy_Expiry_Date',\n",
        "             'Accident_Date', 'DL_Expiry_Date', 'Claims_Date']\n",
        "df = df.drop(columns=[col for col in drop_cols if col in df.columns])\n",
        "\n",
        "df = df.fillna(0)\n",
        "\n",
        "df = pd.get_dummies(df, drop_first=True)\n",
        "\n",
        "target = pd.read_csv(\"Auto_Insurance_Fraud_Claims_File002.csv\")['Fraud_Ind']\n",
        "le = LabelEncoder()\n",
        "y = le.fit_transform(target)\n",
        "\n",
        "X_train, X_test, y_train, y_test = train_test_split(df, y, stratify=y, test_size=0.2, random_state=42)\n",
        "\n",
        "model = RandomForestClassifier(random_state=42, class_weight='balanced')\n",
        "model.fit(X_train, y_train)\n",
        "\n",
        "y_pred = model.predict(X_test)\n",
        "\n",
        "accuracy = accuracy_score(y_test, y_pred)\n",
        "print(f\"✅ Accuracy: {accuracy:.4f}\")\n",
        "print(\"\\n📊 Classification Report:\")\n",
        "print(classification_report(y_test, y_pred, target_names=['Not Fraud', 'Fraud']))\n"
      ],
      "metadata": {
        "colab": {
          "base_uri": "https://localhost:8080/"
        },
        "id": "8ikGqXqTcuEt",
        "outputId": "73c49405-b662-43d1-aa5a-ad72f765814f"
      },
      "execution_count": 47,
      "outputs": [
        {
          "output_type": "stream",
          "name": "stdout",
          "text": [
            "     Claim_ID Fraud_Ind_pred  Fraud_Ind_true\n",
            "0  CC00000001              N             NaN\n",
            "1  CC00000002              N             NaN\n",
            "2  CC00000003              N             NaN\n",
            "3  CC00000004              N             NaN\n",
            "4  CC00000005              N             NaN\n",
            "✅ Accuracy: 1.0000\n",
            "\n",
            "📊 Classification Report:\n",
            "              precision    recall  f1-score   support\n",
            "\n",
            "   Not Fraud       1.00      1.00      1.00      2936\n",
            "       Fraud       1.00      1.00      1.00      1064\n",
            "\n",
            "    accuracy                           1.00      4000\n",
            "   macro avg       1.00      1.00      1.00      4000\n",
            "weighted avg       1.00      1.00      1.00      4000\n",
            "\n"
          ]
        }
      ]
    },
    {
      "cell_type": "code",
      "source": [
        "df1 = pd.read_csv(\"Auto_Insurance_Fraud_Claims_File01.csv\")\n",
        "df3 = pd.read_csv(\"Auto_Insurance_Fraud_Claims_File03.csv\")\n",
        "\n",
        "print(\"File01 columns:\", df1.columns)\n",
        "print(\"File03 columns:\", df3.columns)"
      ],
      "metadata": {
        "colab": {
          "base_uri": "https://localhost:8080/"
        },
        "id": "42Vu01b7cwmq",
        "outputId": "cd966df2-270f-43f3-8397-ebe17e204f79"
      },
      "execution_count": 49,
      "outputs": [
        {
          "output_type": "stream",
          "name": "stdout",
          "text": [
            "File01 columns: Index(['Claim_ID', 'Bind_Date1', 'Customer_Life_Value1', 'Age_Insured',\n",
            "       'Policy_Num', 'Policy_State', 'Policy_Start_Date', 'Policy_Expiry_Date',\n",
            "       'Policy_BI', 'Policy_Ded', 'Policy_Premium', 'Umbrella_Limit',\n",
            "       'Insured_Zip', 'Gender', 'Education', 'Occupation', 'Hobbies',\n",
            "       'Insured_Relationship', 'Capital_Gains', 'Capital_Loss',\n",
            "       'Garage_Location', 'Accident_Date', 'Accident_Type', 'Collision_Type',\n",
            "       'Accident_Severity', 'authorities_contacted', 'Acccident_State',\n",
            "       'Acccident_City', 'Accident_Location', 'Accident_Hour',\n",
            "       'Num_of_Vehicles_Involved', 'Property_Damage', 'Bodily_Injuries',\n",
            "       'Witnesses', 'Police_Report', 'DL_Expiry_Date', 'Claims_Date',\n",
            "       'Auto_Make', 'Auto_Model', 'Auto_Year', 'Vehicle_Color', 'Vehicle_Cost',\n",
            "       'Annual_Mileage', 'DiffIN_Mileage', 'Low_Mileage_Discount', 'Fraud_Ind',\n",
            "       'Commute_Discount', 'Total_Claim', 'Injury_Claim', 'Property_Claim',\n",
            "       'Vehicle_Claim', 'Vehicle_Registration', 'Check_Point'],\n",
            "      dtype='object')\n",
            "File03 columns: Index(['Claim_ID', 'Bind_Date1', 'Customer_Life_Value1', 'Age_Insured',\n",
            "       'Policy_Num', 'Policy_State', 'Policy_Start_Date', 'Policy_Expiry_Date',\n",
            "       'Policy_BI', 'Policy_Ded', 'Policy_Premium', 'Umbrella_Limit',\n",
            "       'Insured_Zip', 'Gender', 'Education', 'Occupation', 'Hobbies',\n",
            "       'Insured_Relationship', 'Capital_Gains', 'Capital_Loss',\n",
            "       'Garage_Location', 'Accident_Date', 'Accident_Type', 'Collision_Type',\n",
            "       'Accident_Severity', 'authorities_contacted', 'Acccident_State',\n",
            "       'Acccident_City', 'Accident_Location', 'Accident_Hour',\n",
            "       'Num_of_Vehicles_Involved', 'Property_Damage', 'Bodily_Injuries',\n",
            "       'Witnesses', 'Police_Report', 'DL_Expiry_Date', 'Claims_Date',\n",
            "       'Auto_Make', 'Auto_Model', 'Auto_Year', 'Vehicle_Color', 'Vehicle_Cost',\n",
            "       'Annual_Mileage', 'DiffIN_Mileage', 'Low_Mileage_Discount',\n",
            "       'Commute_Discount', 'Total_Claim', 'Injury_Claim', 'Property_Claim',\n",
            "       'Vehicle_Claim', 'Vehicle_Registration', 'Check_Point'],\n",
            "      dtype='object')\n"
          ]
        }
      ]
    },
    {
      "cell_type": "code",
      "source": [
        "import pandas as pd\n",
        "from sklearn.metrics import accuracy_score, classification_report, confusion_matrix, roc_auc_score, roc_curve\n",
        "import matplotlib.pyplot as plt\n",
        "import seaborn as sns\n",
        "import joblib\n",
        "from sklearn.preprocessing import LabelEncoder\n",
        "\n",
        "# Load model\n",
        "model = joblib.load(\"best_fraud_model.pkl\")\n",
        "\n",
        "# --- Step 1: Load File01 with labels ---\n",
        "df1 = pd.read_csv(\"Auto_Insurance_Fraud_Claims_File01.csv\")\n",
        "y1 = df1['Fraud_Ind'].map({'Y': 1, 'N': 0})\n",
        "X1 = df1.drop(columns=[\n",
        "    'Claim_ID', 'Policy_Num', 'Vehicle_Registration', 'Check_Point',\n",
        "    'Fraud_Ind', 'Bind_Date1', 'Policy_Start_Date', 'Policy_Expiry_Date',\n",
        "    'Accident_Date', 'DL_Expiry_Date', 'Claims_Date'\n",
        "], errors='ignore')\n",
        "\n",
        "X1 = X1.fillna(0)\n",
        "X1 = pd.get_dummies(X1, drop_first=True)\n",
        "\n",
        "# Align with model input\n",
        "X1 = X1.reindex(columns=model.feature_names_in_, fill_value=0)\n",
        "\n",
        "# Predict\n",
        "y1_pred = model.predict(X1)\n",
        "y1_prob = model.predict_proba(X1)[:, 1]\n",
        "\n",
        "# Accuracy and Report\n",
        "print(f\"✅ Accuracy on File01: {accuracy_score(y1, y1_pred):.4f}\")\n",
        "print(\"\\n📊 Classification Report:\")\n",
        "print(classification_report(y1, y1_pred, target_names=['Not Fraud', 'Fraud']))\n",
        "\n",
        "# Confusion Matrix\n",
        "cm = confusion_matrix(y1, y1_pred)\n",
        "sns.heatmap(cm, annot=True, fmt='d', cmap='Blues', xticklabels=['Not Fraud', 'Fraud'], yticklabels=['Not Fraud', 'Fraud'])\n",
        "plt.title(\"Confusion Matrix - File01\")\n",
        "plt.xlabel(\"Predicted\")\n",
        "plt.ylabel(\"Actual\")\n",
        "plt.show()\n",
        "\n",
        "# ROC Curve\n",
        "fpr, tpr, _ = roc_curve(y1, y1_prob)\n",
        "plt.plot(fpr, tpr, label=f\"AUC = {roc_auc_score(y1, y1_prob):.2f}\")\n",
        "plt.plot([0, 1], [0, 1], linestyle='--')\n",
        "plt.xlabel(\"False Positive Rate\")\n",
        "plt.ylabel(\"True Positive Rate\")\n",
        "plt.title(\"ROC Curve - File01\")\n",
        "plt.legend()\n",
        "plt.grid()\n",
        "plt.show()\n"
      ],
      "metadata": {
        "colab": {
          "base_uri": "https://localhost:8080/",
          "height": 1000
        },
        "id": "1TG24pMlczM_",
        "outputId": "7048a6ce-9d24-4964-db0b-30463c4567c4"
      },
      "execution_count": 50,
      "outputs": [
        {
          "output_type": "stream",
          "name": "stdout",
          "text": [
            "✅ Accuracy on File01: 0.8842\n",
            "\n",
            "📊 Classification Report:\n",
            "              precision    recall  f1-score   support\n",
            "\n",
            "   Not Fraud       0.88      0.99      0.93     30120\n",
            "       Fraud       0.93      0.57      0.71      9880\n",
            "\n",
            "    accuracy                           0.88     40000\n",
            "   macro avg       0.90      0.78      0.82     40000\n",
            "weighted avg       0.89      0.88      0.87     40000\n",
            "\n"
          ]
        },
        {
          "output_type": "display_data",
          "data": {
            "text/plain": [
              "<Figure size 640x480 with 2 Axes>"
            ],
            "image/png": "[encoded data removed]"
          },
          "metadata": {}
        },
        {
          "output_type": "display_data",
          "data": {
            "text/plain": [
              "<Figure size 640x480 with 1 Axes>"
            ],
            "image/png": "[encoded data removed]"
          },
          "metadata": {}
        }
      ]
    },
    {
      "cell_type": "code",
      "source": [
        "# Step 2: Predict on File03 (unlabeled)\n",
        "df3 = pd.read_csv(\"Auto_Insurance_Fraud_Claims_File03.csv\")\n",
        "X3 = df3.drop(columns=[\n",
        "    'Claim_ID', 'Policy_Num', 'Vehicle_Registration', 'Check_Point',\n",
        "    'Bind_Date1', 'Policy_Start_Date', 'Policy_Expiry_Date',\n",
        "    'Accident_Date', 'DL_Expiry_Date', 'Claims_Date'\n",
        "], errors='ignore')\n",
        "\n",
        "X3 = X3.fillna(0)\n",
        "X3 = pd.get_dummies(X3, drop_first=True)\n",
        "X3 = X3.reindex(columns=model.feature_names_in_, fill_value=0)\n",
        "\n",
        "# Predict\n",
        "y3_pred = model.predict(X3)\n",
        "y3_label = pd.Series(y3_pred).map({1: 'Y', 0: 'N'})\n",
        "\n",
        "# Save predictions\n",
        "submission3 = pd.DataFrame({\n",
        "    'Claim_ID': df3['Claim_ID'],\n",
        "    'Fraud_Ind': y3_label\n",
        "})\n",
        "submission3.to_csv(\"File03_Predictions.csv\", index=False)\n",
        "print(\"✅ Predictions saved to File03_Predictions.csv\")\n"
      ],
      "metadata": {
        "colab": {
          "base_uri": "https://localhost:8080/"
        },
        "id": "TDUJ95qpdST_",
        "outputId": "c0cf1538-75f2-4fd2-ed56-c35146dd3edc"
      },
      "execution_count": 51,
      "outputs": [
        {
          "output_type": "stream",
          "name": "stdout",
          "text": [
            "✅ Predictions saved to File03_Predictions.csv\n"
          ]
        }
      ]
    },
    {
      "cell_type": "code",
      "source": [
        "from sklearn.metrics import classification_report, accuracy_score, roc_auc_score\n",
        "\n",
        "# Generate classification report\n",
        "report = classification_report(y1, y1_pred, target_names=['Not Fraud', 'Fraud'])\n",
        "accuracy = accuracy_score(y1, y1_pred)\n",
        "auc = roc_auc_score(y1, y1_prob)\n",
        "\n",
        "with open(\"File01_Evaluation_Report.txt\", \"w\") as f:\n",
        "    f.write(f\"✅ Accuracy: {accuracy:.4f}\\n\")\n",
        "    f.write(f\"✅ ROC AUC Score: {auc:.4f}\\n\\n\")\n",
        "    f.write(\"📊 Classification Report:\\n\")\n",
        "    f.write(report)\n"
      ],
      "metadata": {
        "id": "QvLb2TjidT_E"
      },
      "execution_count": 52,
      "outputs": []
    },
    {
      "cell_type": "code",
      "source": [
        "from google.colab import files\n",
        "files.download(\"File01_Evaluation_Report.txt\")"
      ],
      "metadata": {
        "colab": {
          "base_uri": "https://localhost:8080/",
          "height": 17
        },
        "id": "-oiJa7bThnkL",
        "outputId": "443aa720-e895-4e19-c943-a01be927b3af"
      },
      "execution_count": 53,
      "outputs": [
        {
          "output_type": "display_data",
          "data": {
            "text/plain": [
              "<IPython.core.display.Javascript object>"
            ],
            "application/javascript": [
              "\n",
              "    async function download(id, filename, size) {\n",
              "      if (!google.colab.kernel.accessAllowed) {\n",
              "        return;\n",
              "      }\n",
              "      const div = document.createElement('div');\n",
              "      const label = document.createElement('label');\n",
              "      label.textContent = `Downloading \"${filename}\": `;\n",
              "      div.appendChild(label);\n",
              "      const progress = document.createElement('progress');\n",
              "      progress.max = size;\n",
              "      div.appendChild(progress);\n",
              "      document.body.appendChild(div);\n",
              "\n",
              "      const buffers = [];\n",
              "      let downloaded = 0;\n",
              "\n",
              "      const channel = await google.colab.kernel.comms.open(id);\n",
              "      // Send a message to notify the kernel that we're ready.\n",
              "      channel.send({})\n",
              "\n",
              "      for await (const message of channel.messages) {\n",
              "        // Send a message to notify the kernel that we're ready.\n",
              "        channel.send({})\n",
              "        if (message.buffers) {\n",
              "          for (const buffer of message.buffers) {\n",
              "            buffers.push(buffer);\n",
              "            downloaded += buffer.byteLength;\n",
              "            progress.value = downloaded;\n",
              "          }\n",
              "        }\n",
              "      }\n",
              "      const blob = new Blob(buffers, {type: 'application/binary'});\n",
              "      const a = document.createElement('a');\n",
              "      a.href = window.URL.createObjectURL(blob);\n",
              "      a.download = filename;\n",
              "      div.appendChild(a);\n",
              "      a.click();\n",
              "      div.remove();\n",
              "    }\n",
              "  "
            ]
          },
          "metadata": {}
        },
        {
          "output_type": "display_data",
          "data": {
            "text/plain": [
              "<IPython.core.display.Javascript object>"
            ],
            "application/javascript": [
              "download(\"download_77409183-70a7-497f-bfa8-32eb1217b4df\", \"File01_Evaluation_Report.txt\", 402)"
            ]
          },
          "metadata": {}
        }
      ]
    },
    {
      "cell_type": "code",
      "source": [],
      "metadata": {
        "id": "yMBndsDalkZV"
      },
      "execution_count": null,
      "outputs": []
    },
    {
      "cell_type": "code",
      "source": [],
      "metadata": {
        "id": "QCq0HYH4lkTa"
      },
      "execution_count": null,
      "outputs": []
    },
    {
      "cell_type": "code",
      "source": [
        "#Fraud Pattern Discovery using Clustering\n",
        "\n",
        "from sklearn.preprocessing import StandardScaler\n",
        "from sklearn.decomposition import PCA\n",
        "from sklearn.cluster import KMeans\n",
        "import matplotlib.pyplot as plt\n",
        "\n",
        "# Scale features\n",
        "scaler = StandardScaler()\n",
        "X_scaled = scaler.fit_transform(df_cleaned[numerical_cols])\n",
        "\n",
        "# Apply KMeans\n",
        "kmeans = KMeans(n_clusters=3)\n",
        "clusters = kmeans.fit_predict(X_scaled)\n",
        "\n",
        "# Reduce dimensions for plotting\n",
        "pca = PCA(n_components=2)\n",
        "X_pca = pca.fit_transform(X_scaled)\n",
        "\n",
        "# Plot\n",
        "plt.scatter(X_pca[:, 0], X_pca[:, 1], c=clusters, cmap='viridis')\n",
        "plt.title(\"Fraud Pattern Clusters via KMeans + PCA\")\n",
        "plt.show()"
      ],
      "metadata": {
        "colab": {
          "base_uri": "https://localhost:8080/",
          "height": 452
        },
        "id": "InDmtgLkh3Xe",
        "outputId": "7eeaeb0a-deee-475d-bd09-ab394e5f5c3f"
      },
      "execution_count": 54,
      "outputs": [
        {
          "output_type": "display_data",
          "data": {
            "text/plain": [
              "<Figure size 640x480 with 1 Axes>"
            ],
            "image/png": "[encoded data removed]"
          },
          "metadata": {}
        }
      ]
    },
    {
      "cell_type": "code",
      "source": [
        "print(df.columns)"
      ],
      "metadata": {
        "colab": {
          "base_uri": "https://localhost:8080/"
        },
        "id": "MSiOOZxallE6",
        "outputId": "1a0506bd-0278-4039-dc7d-335453e7ebfe"
      },
      "execution_count": 55,
      "outputs": [
        {
          "output_type": "stream",
          "name": "stdout",
          "text": [
            "Index(['Customer_Life_Value1', 'Age_Insured', 'Policy_Ded', 'Policy_Premium',\n",
            "       'Umbrella_Limit', 'Insured_Zip', 'Capital_Gains', 'Capital_Loss',\n",
            "       'Accident_Hour', 'Num_of_Vehicles_Involved',\n",
            "       ...\n",
            "       'Auto_Model_Tahoe', 'Auto_Model_Ultima', 'Auto_Model_Wrangler',\n",
            "       'Auto_Model_X5', 'Auto_Model_X6', 'Vehicle_Color_Blue',\n",
            "       'Vehicle_Color_Gray', 'Vehicle_Color_Red', 'Vehicle_Color_Silver',\n",
            "       'Vehicle_Color_White'],\n",
            "      dtype='object', length=655)\n"
          ]
        }
      ]
    },
    {
      "cell_type": "code",
      "source": [
        "# If you're using File01\n",
        "df = pd.read_csv('Auto_Insurance_Fraud_Claims_File01.csv')\n"
      ],
      "metadata": {
        "id": "OMsUcU73lrDY"
      },
      "execution_count": 56,
      "outputs": []
    },
    {
      "cell_type": "code",
      "source": [
        "#Interactive Map of Fraud by Location\n",
        "import plotly.express as px\n",
        "\n",
        "# Make sure 'Fraud_Ind' exists\n",
        "if 'Fraud_Ind' in df.columns:\n",
        "    fraud_by_city = df[df['Fraud_Ind'] == 'Y'].groupby('Acccident_City').size().reset_index(name='Fraud_Count')\n",
        "    fig = px.bar(fraud_by_city.sort_values('Fraud_Count', ascending=False).head(10),\n",
        "                 x='Acccident_City', y='Fraud_Count',\n",
        "                 title=\"Top Cities by Fraud Count\")\n",
        "    fig.show()\n",
        "else:\n",
        "    print(\"❌ 'Fraud_Ind' not found in dataset.\")\n"
      ],
      "metadata": {
        "colab": {
          "base_uri": "https://localhost:8080/",
          "height": 542
        },
        "id": "9aQgr3d-l9hx",
        "outputId": "61f20c78-0c8e-43c1-cb3b-e4f92c0c394a"
      },
      "execution_count": 57,
      "outputs": [
        {
          "output_type": "display_data",
          "data": {
            "text/html": [
              "<html>\n",
              "<head><meta charset=\"utf-8\" /></head>\n",
              "<body>\n",
              "    <div>            <script src=\"https://cdnjs.cloudflare.com/ajax/libs/mathjax/2.7.5/MathJax.js?config=TeX-AMS-MML_SVG\"></script><script type=\"text/javascript\">if (window.MathJax && window.MathJax.Hub && window.MathJax.Hub.Config) {window.MathJax.Hub.Config({SVG: {font: \"STIX-Web\"}});}</script>                <script type=\"text/javascript\">window.PlotlyConfig = {MathJaxConfig: 'local'};</script>\n",
              "        <script charset=\"utf-8\" src=\"https://cdn.plot.ly/plotly-2.35.2.min.js\"></script>                <div id=\"26239d20-7873-413a-9f87-602c6cdc90b9\" class=\"plotly-graph-div\" style=\"height:525px; width:100%;\"></div>            <script type=\"text/javascript\">                                    window.PLOTLYENV=window.PLOTLYENV || {};                                    if (document.getElementById(\"26239d20-7873-413a-9f87-602c6cdc90b9\")) {                    Plotly.newPlot(                        \"26239d20-7873-413a-9f87-602c6cdc90b9\",                        [{\"alignmentgroup\":\"True\",\"hovertemplate\":\"Acccident_City=%{x}\\u003cbr\\u003eFraud_Count=%{y}\\u003cextra\\u003e\\u003c\\u002fextra\\u003e\",\"legendgroup\":\"\",\"marker\":{\"color\":\"#636efa\",\"pattern\":{\"shape\":\"\"}},\"name\":\"\",\"offsetgroup\":\"\",\"orientation\":\"v\",\"showlegend\":false,\"textposition\":\"auto\",\"x\":[\"Arlington\",\"Springfield\",\"Columbus\",\"Hillsdale\",\"Northbend\",\"Riverwood\",\"Northbrook\"],\"xaxis\":\"x\",\"y\":[1641,1562,1557,1427,1365,1231,1097],\"yaxis\":\"y\",\"type\":\"bar\"}],                        {\"template\":{\"data\":{\"histogram2dcontour\":[{\"type\":\"histogram2dcontour\",\"colorbar\":{\"outlinewidth\":0,\"ticks\":\"\"},\"colorscale\":[[0.0,\"#0d0887\"],[0.1111111111111111,\"#46039f\"],[0.2222222222222222,\"#7201a8\"],[0.3333333333333333,\"#9c179e\"],[0.4444444444444444,\"#bd3786\"],[0.5555555555555556,\"#d8576b\"],[0.6666666666666666,\"#ed7953\"],[0.7777777777777778,\"#fb9f3a\"],[0.8888888888888888,\"#fdca26\"],[1.0,\"#f0f921\"]]}],\"choropleth\":[{\"type\":\"choropleth\",\"colorbar\":{\"outlinewidth\":0,\"ticks\":\"\"}}],\"histogram2d\":[{\"type\":\"histogram2d\",\"colorbar\":{\"outlinewidth\":0,\"ticks\":\"\"},\"colorscale\":[[0.0,\"#0d0887\"],[0.1111111111111111,\"#46039f\"],[0.2222222222222222,\"#7201a8\"],[0.3333333333333333,\"#9c179e\"],[0.4444444444444444,\"#bd3786\"],[0.5555555555555556,\"#d8576b\"],[0.6666666666666666,\"#ed7953\"],[0.7777777777777778,\"#fb9f3a\"],[0.8888888888888888,\"#fdca26\"],[1.0,\"#f0f921\"]]}],\"heatmap\":[{\"type\":\"heatmap\",\"colorbar\":{\"outlinewidth\":0,\"ticks\":\"\"},\"colorscale\":[[0.0,\"#0d0887\"],[0.1111111111111111,\"#46039f\"],[0.2222222222222222,\"#7201a8\"],[0.3333333333333333,\"#9c179e\"],[0.4444444444444444,\"#bd3786\"],[0.5555555555555556,\"#d8576b\"],[0.6666666666666666,\"#ed7953\"],[0.7777777777777778,\"#fb9f3a\"],[0.8888888888888888,\"#fdca26\"],[1.0,\"#f0f921\"]]}],\"heatmapgl\":[{\"type\":\"heatmapgl\",\"colorbar\":{\"outlinewidth\":0,\"ticks\":\"\"},\"colorscale\":[[0.0,\"#0d0887\"],[0.1111111111111111,\"#46039f\"],[0.2222222222222222,\"#7201a8\"],[0.3333333333333333,\"#9c179e\"],[0.4444444444444444,\"#bd3786\"],[0.5555555555555556,\"#d8576b\"],[0.6666666666666666,\"#ed7953\"],[0.7777777777777778,\"#fb9f3a\"],[0.8888888888888888,\"#fdca26\"],[1.0,\"#f0f921\"]]}],\"contourcarpet\":[{\"type\":\"contourcarpet\",\"colorbar\":{\"outlinewidth\":0,\"ticks\":\"\"}}],\"contour\":[{\"type\":\"contour\",\"colorbar\":{\"outlinewidth\":0,\"ticks\":\"\"},\"colorscale\":[[0.0,\"#0d0887\"],[0.1111111111111111,\"#46039f\"],[0.2222222222222222,\"#7201a8\"],[0.3333333333333333,\"#9c179e\"],[0.4444444444444444,\"#bd3786\"],[0.5555555555555556,\"#d8576b\"],[0.6666666666666666,\"#ed7953\"],[0.7777777777777778,\"#fb9f3a\"],[0.8888888888888888,\"#fdca26\"],[1.0,\"#f0f921\"]]}],\"surface\":[{\"type\":\"surface\",\"colorbar\":{\"outlinewidth\":0,\"ticks\":\"\"},\"colorscale\":[[0.0,\"#0d0887\"],[0.1111111111111111,\"#46039f\"],[0.2222222222222222,\"#7201a8\"],[0.3333333333333333,\"#9c179e\"],[0.4444444444444444,\"#bd3786\"],[0.5555555555555556,\"#d8576b\"],[0.6666666666666666,\"#ed7953\"],[0.7777777777777778,\"#fb9f3a\"],[0.8888888888888888,\"#fdca26\"],[1.0,\"#f0f921\"]]}],\"mesh3d\":[{\"type\":\"mesh3d\",\"colorbar\":{\"outlinewidth\":0,\"ticks\":\"\"}}],\"scatter\":[{\"fillpattern\":{\"fillmode\":\"overlay\",\"size\":10,\"solidity\":0.2},\"type\":\"scatter\"}],\"parcoords\":[{\"type\":\"parcoords\",\"line\":{\"colorbar\":{\"outlinewidth\":0,\"ticks\":\"\"}}}],\"scatterpolargl\":[{\"type\":\"scatterpolargl\",\"marker\":{\"colorbar\":{\"outlinewidth\":0,\"ticks\":\"\"}}}],\"bar\":[{\"error_x\":{\"color\":\"#2a3f5f\"},\"error_y\":{\"color\":\"#2a3f5f\"},\"marker\":{\"line\":{\"color\":\"#E5ECF6\",\"width\":0.5},\"pattern\":{\"fillmode\":\"overlay\",\"size\":10,\"solidity\":0.2}},\"type\":\"bar\"}],\"scattergeo\":[{\"type\":\"scattergeo\",\"marker\":{\"colorbar\":{\"outlinewidth\":0,\"ticks\":\"\"}}}],\"scatterpolar\":[{\"type\":\"scatterpolar\",\"marker\":{\"colorbar\":{\"outlinewidth\":0,\"ticks\":\"\"}}}],\"histogram\":[{\"marker\":{\"pattern\":{\"fillmode\":\"overlay\",\"size\":10,\"solidity\":0.2}},\"type\":\"histogram\"}],\"scattergl\":[{\"type\":\"scattergl\",\"marker\":{\"colorbar\":{\"outlinewidth\":0,\"ticks\":\"\"}}}],\"scatter3d\":[{\"type\":\"scatter3d\",\"line\":{\"colorbar\":{\"outlinewidth\":0,\"ticks\":\"\"}},\"marker\":{\"colorbar\":{\"outlinewidth\":0,\"ticks\":\"\"}}}],\"scattermapbox\":[{\"type\":\"scattermapbox\",\"marker\":{\"colorbar\":{\"outlinewidth\":0,\"ticks\":\"\"}}}],\"scatterternary\":[{\"type\":\"scatterternary\",\"marker\":{\"colorbar\":{\"outlinewidth\":0,\"ticks\":\"\"}}}],\"scattercarpet\":[{\"type\":\"scattercarpet\",\"marker\":{\"colorbar\":{\"outlinewidth\":0,\"ticks\":\"\"}}}],\"carpet\":[{\"aaxis\":{\"endlinecolor\":\"#2a3f5f\",\"gridcolor\":\"white\",\"linecolor\":\"white\",\"minorgridcolor\":\"white\",\"startlinecolor\":\"#2a3f5f\"},\"baxis\":{\"endlinecolor\":\"#2a3f5f\",\"gridcolor\":\"white\",\"linecolor\":\"white\",\"minorgridcolor\":\"white\",\"startlinecolor\":\"#2a3f5f\"},\"type\":\"carpet\"}],\"table\":[{\"cells\":{\"fill\":{\"color\":\"#EBF0F8\"},\"line\":{\"color\":\"white\"}},\"header\":{\"fill\":{\"color\":\"#C8D4E3\"},\"line\":{\"color\":\"white\"}},\"type\":\"table\"}],\"barpolar\":[{\"marker\":{\"line\":{\"color\":\"#E5ECF6\",\"width\":0.5},\"pattern\":{\"fillmode\":\"overlay\",\"size\":10,\"solidity\":0.2}},\"type\":\"barpolar\"}],\"pie\":[{\"automargin\":true,\"type\":\"pie\"}]},\"layout\":{\"autotypenumbers\":\"strict\",\"colorway\":[\"#636efa\",\"#EF553B\",\"#00cc96\",\"#ab63fa\",\"#FFA15A\",\"#19d3f3\",\"#FF6692\",\"#B6E880\",\"#FF97FF\",\"#FECB52\"],\"font\":{\"color\":\"#2a3f5f\"},\"hovermode\":\"closest\",\"hoverlabel\":{\"align\":\"left\"},\"paper_bgcolor\":\"white\",\"plot_bgcolor\":\"#E5ECF6\",\"polar\":{\"bgcolor\":\"#E5ECF6\",\"angularaxis\":{\"gridcolor\":\"white\",\"linecolor\":\"white\",\"ticks\":\"\"},\"radialaxis\":{\"gridcolor\":\"white\",\"linecolor\":\"white\",\"ticks\":\"\"}},\"ternary\":{\"bgcolor\":\"#E5ECF6\",\"aaxis\":{\"gridcolor\":\"white\",\"linecolor\":\"white\",\"ticks\":\"\"},\"baxis\":{\"gridcolor\":\"white\",\"linecolor\":\"white\",\"ticks\":\"\"},\"caxis\":{\"gridcolor\":\"white\",\"linecolor\":\"white\",\"ticks\":\"\"}},\"coloraxis\":{\"colorbar\":{\"outlinewidth\":0,\"ticks\":\"\"}},\"colorscale\":{\"sequential\":[[0.0,\"#0d0887\"],[0.1111111111111111,\"#46039f\"],[0.2222222222222222,\"#7201a8\"],[0.3333333333333333,\"#9c179e\"],[0.4444444444444444,\"#bd3786\"],[0.5555555555555556,\"#d8576b\"],[0.6666666666666666,\"#ed7953\"],[0.7777777777777778,\"#fb9f3a\"],[0.8888888888888888,\"#fdca26\"],[1.0,\"#f0f921\"]],\"sequentialminus\":[[0.0,\"#0d0887\"],[0.1111111111111111,\"#46039f\"],[0.2222222222222222,\"#7201a8\"],[0.3333333333333333,\"#9c179e\"],[0.4444444444444444,\"#bd3786\"],[0.5555555555555556,\"#d8576b\"],[0.6666666666666666,\"#ed7953\"],[0.7777777777777778,\"#fb9f3a\"],[0.8888888888888888,\"#fdca26\"],[1.0,\"#f0f921\"]],\"diverging\":[[0,\"#8e0152\"],[0.1,\"#c51b7d\"],[0.2,\"#de77ae\"],[0.3,\"#f1b6da\"],[0.4,\"#fde0ef\"],[0.5,\"#f7f7f7\"],[0.6,\"#e6f5d0\"],[0.7,\"#b8e186\"],[0.8,\"#7fbc41\"],[0.9,\"#4d9221\"],[1,\"#276419\"]]},\"xaxis\":{\"gridcolor\":\"white\",\"linecolor\":\"white\",\"ticks\":\"\",\"title\":{\"standoff\":15},\"zerolinecolor\":\"white\",\"automargin\":true,\"zerolinewidth\":2},\"yaxis\":{\"gridcolor\":\"white\",\"linecolor\":\"white\",\"ticks\":\"\",\"title\":{\"standoff\":15},\"zerolinecolor\":\"white\",\"automargin\":true,\"zerolinewidth\":2},\"scene\":{\"xaxis\":{\"backgroundcolor\":\"#E5ECF6\",\"gridcolor\":\"white\",\"linecolor\":\"white\",\"showbackground\":true,\"ticks\":\"\",\"zerolinecolor\":\"white\",\"gridwidth\":2},\"yaxis\":{\"backgroundcolor\":\"#E5ECF6\",\"gridcolor\":\"white\",\"linecolor\":\"white\",\"showbackground\":true,\"ticks\":\"\",\"zerolinecolor\":\"white\",\"gridwidth\":2},\"zaxis\":{\"backgroundcolor\":\"#E5ECF6\",\"gridcolor\":\"white\",\"linecolor\":\"white\",\"showbackground\":true,\"ticks\":\"\",\"zerolinecolor\":\"white\",\"gridwidth\":2}},\"shapedefaults\":{\"line\":{\"color\":\"#2a3f5f\"}},\"annotationdefaults\":{\"arrowcolor\":\"#2a3f5f\",\"arrowhead\":0,\"arrowwidth\":1},\"geo\":{\"bgcolor\":\"white\",\"landcolor\":\"#E5ECF6\",\"subunitcolor\":\"white\",\"showland\":true,\"showlakes\":true,\"lakecolor\":\"white\"},\"title\":{\"x\":0.05},\"mapbox\":{\"style\":\"light\"}}},\"xaxis\":{\"anchor\":\"y\",\"domain\":[0.0,1.0],\"title\":{\"text\":\"Acccident_City\"}},\"yaxis\":{\"anchor\":\"x\",\"domain\":[0.0,1.0],\"title\":{\"text\":\"Fraud_Count\"}},\"legend\":{\"tracegroupgap\":0},\"title\":{\"text\":\"Top Cities by Fraud Count\"},\"barmode\":\"relative\"},                        {\"responsive\": true}                    ).then(function(){\n",
              "                            \n",
              "var gd = document.getElementById('26239d20-7873-413a-9f87-602c6cdc90b9');\n",
              "var x = new MutationObserver(function (mutations, observer) {{\n",
              "        var display = window.getComputedStyle(gd).display;\n",
              "        if (!display || display === 'none') {{\n",
              "            console.log([gd, 'removed!']);\n",
              "            Plotly.purge(gd);\n",
              "            observer.disconnect();\n",
              "        }}\n",
              "}});\n",
              "\n",
              "// Listen for the removal of the full notebook cells\n",
              "var notebookContainer = gd.closest('#notebook-container');\n",
              "if (notebookContainer) {{\n",
              "    x.observe(notebookContainer, {childList: true});\n",
              "}}\n",
              "\n",
              "// Listen for the clearing of the current output cell\n",
              "var outputEl = gd.closest('.output');\n",
              "if (outputEl) {{\n",
              "    x.observe(outputEl, {childList: true});\n",
              "}}\n",
              "\n",
              "                        })                };                            </script>        </div>\n",
              "</body>\n",
              "</html>"
            ]
          },
          "metadata": {}
        }
      ]
    },
    {
      "cell_type": "code",
      "source": [],
      "metadata": {
        "id": "TOg2WqrLm4eA"
      },
      "execution_count": null,
      "outputs": []
    },
    {
      "cell_type": "code",
      "source": [],
      "metadata": {
        "id": "ASjRLG62m4yo"
      },
      "execution_count": null,
      "outputs": []
    },
    {
      "cell_type": "code",
      "source": [
        "df = pd.read_csv('Auto_Insurance_Fraud_Claims_File002.csv')"
      ],
      "metadata": {
        "id": "PiC4sNVml_Kr"
      },
      "execution_count": 60,
      "outputs": []
    },
    {
      "cell_type": "code",
      "source": [
        "import plotly.express as px\n",
        "\n",
        "# Make sure 'Fraud_Ind' exists\n",
        "if 'Fraud_Ind' in df.columns:\n",
        "    fraud_by_city = df[df['Fraud_Ind'] == 'Y'].groupby('Acccident_City').size().reset_index(name='Fraud_Count')\n",
        "    fig = px.bar(fraud_by_city.sort_values('Fraud_Count', ascending=False).head(10),\n",
        "                 x='Acccident_City', y='Fraud_Count',\n",
        "                 title=\"Top Cities by Fraud Count\")\n",
        "    fig.show()\n",
        "else:\n",
        "    print(\"❌ 'Fraud_Ind' not found in dataset.\")\n"
      ],
      "metadata": {
        "colab": {
          "base_uri": "https://localhost:8080/",
          "height": 542
        },
        "id": "jQq5K6BAmG61",
        "outputId": "b13f18cf-befe-43d8-aa2c-72498f2302d4"
      },
      "execution_count": 61,
      "outputs": [
        {
          "output_type": "display_data",
          "data": {
            "text/html": [
              "<html>\n",
              "<head><meta charset=\"utf-8\" /></head>\n",
              "<body>\n",
              "    <div>            <script src=\"https://cdnjs.cloudflare.com/ajax/libs/mathjax/2.7.5/MathJax.js?config=TeX-AMS-MML_SVG\"></script><script type=\"text/javascript\">if (window.MathJax && window.MathJax.Hub && window.MathJax.Hub.Config) {window.MathJax.Hub.Config({SVG: {font: \"STIX-Web\"}});}</script>                <script type=\"text/javascript\">window.PlotlyConfig = {MathJaxConfig: 'local'};</script>\n",
              "        <script charset=\"utf-8\" src=\"https://cdn.plot.ly/plotly-2.35.2.min.js\"></script>                <div id=\"469475e9-4600-4cad-ad57-5d8c1c0c9f47\" class=\"plotly-graph-div\" style=\"height:525px; width:100%;\"></div>            <script type=\"text/javascript\">                                    window.PLOTLYENV=window.PLOTLYENV || {};                                    if (document.getElementById(\"469475e9-4600-4cad-ad57-5d8c1c0c9f47\")) {                    Plotly.newPlot(                        \"469475e9-4600-4cad-ad57-5d8c1c0c9f47\",                        [{\"alignmentgroup\":\"True\",\"hovertemplate\":\"Acccident_City=%{x}\\u003cbr\\u003eFraud_Count=%{y}\\u003cextra\\u003e\\u003c\\u002fextra\\u003e\",\"legendgroup\":\"\",\"marker\":{\"color\":\"#636efa\",\"pattern\":{\"shape\":\"\"}},\"name\":\"\",\"offsetgroup\":\"\",\"orientation\":\"v\",\"showlegend\":false,\"textposition\":\"auto\",\"x\":[\"Springfield\",\"Arlington\",\"Northbend\",\"Columbus\",\"Riverwood\",\"Northbrook\",\"Hillsdale\"],\"xaxis\":\"x\",\"y\":[933,860,839,812,810,594,472],\"yaxis\":\"y\",\"type\":\"bar\"}],                        {\"template\":{\"data\":{\"histogram2dcontour\":[{\"type\":\"histogram2dcontour\",\"colorbar\":{\"outlinewidth\":0,\"ticks\":\"\"},\"colorscale\":[[0.0,\"#0d0887\"],[0.1111111111111111,\"#46039f\"],[0.2222222222222222,\"#7201a8\"],[0.3333333333333333,\"#9c179e\"],[0.4444444444444444,\"#bd3786\"],[0.5555555555555556,\"#d8576b\"],[0.6666666666666666,\"#ed7953\"],[0.7777777777777778,\"#fb9f3a\"],[0.8888888888888888,\"#fdca26\"],[1.0,\"#f0f921\"]]}],\"choropleth\":[{\"type\":\"choropleth\",\"colorbar\":{\"outlinewidth\":0,\"ticks\":\"\"}}],\"histogram2d\":[{\"type\":\"histogram2d\",\"colorbar\":{\"outlinewidth\":0,\"ticks\":\"\"},\"colorscale\":[[0.0,\"#0d0887\"],[0.1111111111111111,\"#46039f\"],[0.2222222222222222,\"#7201a8\"],[0.3333333333333333,\"#9c179e\"],[0.4444444444444444,\"#bd3786\"],[0.5555555555555556,\"#d8576b\"],[0.6666666666666666,\"#ed7953\"],[0.7777777777777778,\"#fb9f3a\"],[0.8888888888888888,\"#fdca26\"],[1.0,\"#f0f921\"]]}],\"heatmap\":[{\"type\":\"heatmap\",\"colorbar\":{\"outlinewidth\":0,\"ticks\":\"\"},\"colorscale\":[[0.0,\"#0d0887\"],[0.1111111111111111,\"#46039f\"],[0.2222222222222222,\"#7201a8\"],[0.3333333333333333,\"#9c179e\"],[0.4444444444444444,\"#bd3786\"],[0.5555555555555556,\"#d8576b\"],[0.6666666666666666,\"#ed7953\"],[0.7777777777777778,\"#fb9f3a\"],[0.8888888888888888,\"#fdca26\"],[1.0,\"#f0f921\"]]}],\"heatmapgl\":[{\"type\":\"heatmapgl\",\"colorbar\":{\"outlinewidth\":0,\"ticks\":\"\"},\"colorscale\":[[0.0,\"#0d0887\"],[0.1111111111111111,\"#46039f\"],[0.2222222222222222,\"#7201a8\"],[0.3333333333333333,\"#9c179e\"],[0.4444444444444444,\"#bd3786\"],[0.5555555555555556,\"#d8576b\"],[0.6666666666666666,\"#ed7953\"],[0.7777777777777778,\"#fb9f3a\"],[0.8888888888888888,\"#fdca26\"],[1.0,\"#f0f921\"]]}],\"contourcarpet\":[{\"type\":\"contourcarpet\",\"colorbar\":{\"outlinewidth\":0,\"ticks\":\"\"}}],\"contour\":[{\"type\":\"contour\",\"colorbar\":{\"outlinewidth\":0,\"ticks\":\"\"},\"colorscale\":[[0.0,\"#0d0887\"],[0.1111111111111111,\"#46039f\"],[0.2222222222222222,\"#7201a8\"],[0.3333333333333333,\"#9c179e\"],[0.4444444444444444,\"#bd3786\"],[0.5555555555555556,\"#d8576b\"],[0.6666666666666666,\"#ed7953\"],[0.7777777777777778,\"#fb9f3a\"],[0.8888888888888888,\"#fdca26\"],[1.0,\"#f0f921\"]]}],\"surface\":[{\"type\":\"surface\",\"colorbar\":{\"outlinewidth\":0,\"ticks\":\"\"},\"colorscale\":[[0.0,\"#0d0887\"],[0.1111111111111111,\"#46039f\"],[0.2222222222222222,\"#7201a8\"],[0.3333333333333333,\"#9c179e\"],[0.4444444444444444,\"#bd3786\"],[0.5555555555555556,\"#d8576b\"],[0.6666666666666666,\"#ed7953\"],[0.7777777777777778,\"#fb9f3a\"],[0.8888888888888888,\"#fdca26\"],[1.0,\"#f0f921\"]]}],\"mesh3d\":[{\"type\":\"mesh3d\",\"colorbar\":{\"outlinewidth\":0,\"ticks\":\"\"}}],\"scatter\":[{\"fillpattern\":{\"fillmode\":\"overlay\",\"size\":10,\"solidity\":0.2},\"type\":\"scatter\"}],\"parcoords\":[{\"type\":\"parcoords\",\"line\":{\"colorbar\":{\"outlinewidth\":0,\"ticks\":\"\"}}}],\"scatterpolargl\":[{\"type\":\"scatterpolargl\",\"marker\":{\"colorbar\":{\"outlinewidth\":0,\"ticks\":\"\"}}}],\"bar\":[{\"error_x\":{\"color\":\"#2a3f5f\"},\"error_y\":{\"color\":\"#2a3f5f\"},\"marker\":{\"line\":{\"color\":\"#E5ECF6\",\"width\":0.5},\"pattern\":{\"fillmode\":\"overlay\",\"size\":10,\"solidity\":0.2}},\"type\":\"bar\"}],\"scattergeo\":[{\"type\":\"scattergeo\",\"marker\":{\"colorbar\":{\"outlinewidth\":0,\"ticks\":\"\"}}}],\"scatterpolar\":[{\"type\":\"scatterpolar\",\"marker\":{\"colorbar\":{\"outlinewidth\":0,\"ticks\":\"\"}}}],\"histogram\":[{\"marker\":{\"pattern\":{\"fillmode\":\"overlay\",\"size\":10,\"solidity\":0.2}},\"type\":\"histogram\"}],\"scattergl\":[{\"type\":\"scattergl\",\"marker\":{\"colorbar\":{\"outlinewidth\":0,\"ticks\":\"\"}}}],\"scatter3d\":[{\"type\":\"scatter3d\",\"line\":{\"colorbar\":{\"outlinewidth\":0,\"ticks\":\"\"}},\"marker\":{\"colorbar\":{\"outlinewidth\":0,\"ticks\":\"\"}}}],\"scattermapbox\":[{\"type\":\"scattermapbox\",\"marker\":{\"colorbar\":{\"outlinewidth\":0,\"ticks\":\"\"}}}],\"scatterternary\":[{\"type\":\"scatterternary\",\"marker\":{\"colorbar\":{\"outlinewidth\":0,\"ticks\":\"\"}}}],\"scattercarpet\":[{\"type\":\"scattercarpet\",\"marker\":{\"colorbar\":{\"outlinewidth\":0,\"ticks\":\"\"}}}],\"carpet\":[{\"aaxis\":{\"endlinecolor\":\"#2a3f5f\",\"gridcolor\":\"white\",\"linecolor\":\"white\",\"minorgridcolor\":\"white\",\"startlinecolor\":\"#2a3f5f\"},\"baxis\":{\"endlinecolor\":\"#2a3f5f\",\"gridcolor\":\"white\",\"linecolor\":\"white\",\"minorgridcolor\":\"white\",\"startlinecolor\":\"#2a3f5f\"},\"type\":\"carpet\"}],\"table\":[{\"cells\":{\"fill\":{\"color\":\"#EBF0F8\"},\"line\":{\"color\":\"white\"}},\"header\":{\"fill\":{\"color\":\"#C8D4E3\"},\"line\":{\"color\":\"white\"}},\"type\":\"table\"}],\"barpolar\":[{\"marker\":{\"line\":{\"color\":\"#E5ECF6\",\"width\":0.5},\"pattern\":{\"fillmode\":\"overlay\",\"size\":10,\"solidity\":0.2}},\"type\":\"barpolar\"}],\"pie\":[{\"automargin\":true,\"type\":\"pie\"}]},\"layout\":{\"autotypenumbers\":\"strict\",\"colorway\":[\"#636efa\",\"#EF553B\",\"#00cc96\",\"#ab63fa\",\"#FFA15A\",\"#19d3f3\",\"#FF6692\",\"#B6E880\",\"#FF97FF\",\"#FECB52\"],\"font\":{\"color\":\"#2a3f5f\"},\"hovermode\":\"closest\",\"hoverlabel\":{\"align\":\"left\"},\"paper_bgcolor\":\"white\",\"plot_bgcolor\":\"#E5ECF6\",\"polar\":{\"bgcolor\":\"#E5ECF6\",\"angularaxis\":{\"gridcolor\":\"white\",\"linecolor\":\"white\",\"ticks\":\"\"},\"radialaxis\":{\"gridcolor\":\"white\",\"linecolor\":\"white\",\"ticks\":\"\"}},\"ternary\":{\"bgcolor\":\"#E5ECF6\",\"aaxis\":{\"gridcolor\":\"white\",\"linecolor\":\"white\",\"ticks\":\"\"},\"baxis\":{\"gridcolor\":\"white\",\"linecolor\":\"white\",\"ticks\":\"\"},\"caxis\":{\"gridcolor\":\"white\",\"linecolor\":\"white\",\"ticks\":\"\"}},\"coloraxis\":{\"colorbar\":{\"outlinewidth\":0,\"ticks\":\"\"}},\"colorscale\":{\"sequential\":[[0.0,\"#0d0887\"],[0.1111111111111111,\"#46039f\"],[0.2222222222222222,\"#7201a8\"],[0.3333333333333333,\"#9c179e\"],[0.4444444444444444,\"#bd3786\"],[0.5555555555555556,\"#d8576b\"],[0.6666666666666666,\"#ed7953\"],[0.7777777777777778,\"#fb9f3a\"],[0.8888888888888888,\"#fdca26\"],[1.0,\"#f0f921\"]],\"sequentialminus\":[[0.0,\"#0d0887\"],[0.1111111111111111,\"#46039f\"],[0.2222222222222222,\"#7201a8\"],[0.3333333333333333,\"#9c179e\"],[0.4444444444444444,\"#bd3786\"],[0.5555555555555556,\"#d8576b\"],[0.6666666666666666,\"#ed7953\"],[0.7777777777777778,\"#fb9f3a\"],[0.8888888888888888,\"#fdca26\"],[1.0,\"#f0f921\"]],\"diverging\":[[0,\"#8e0152\"],[0.1,\"#c51b7d\"],[0.2,\"#de77ae\"],[0.3,\"#f1b6da\"],[0.4,\"#fde0ef\"],[0.5,\"#f7f7f7\"],[0.6,\"#e6f5d0\"],[0.7,\"#b8e186\"],[0.8,\"#7fbc41\"],[0.9,\"#4d9221\"],[1,\"#276419\"]]},\"xaxis\":{\"gridcolor\":\"white\",\"linecolor\":\"white\",\"ticks\":\"\",\"title\":{\"standoff\":15},\"zerolinecolor\":\"white\",\"automargin\":true,\"zerolinewidth\":2},\"yaxis\":{\"gridcolor\":\"white\",\"linecolor\":\"white\",\"ticks\":\"\",\"title\":{\"standoff\":15},\"zerolinecolor\":\"white\",\"automargin\":true,\"zerolinewidth\":2},\"scene\":{\"xaxis\":{\"backgroundcolor\":\"#E5ECF6\",\"gridcolor\":\"white\",\"linecolor\":\"white\",\"showbackground\":true,\"ticks\":\"\",\"zerolinecolor\":\"white\",\"gridwidth\":2},\"yaxis\":{\"backgroundcolor\":\"#E5ECF6\",\"gridcolor\":\"white\",\"linecolor\":\"white\",\"showbackground\":true,\"ticks\":\"\",\"zerolinecolor\":\"white\",\"gridwidth\":2},\"zaxis\":{\"backgroundcolor\":\"#E5ECF6\",\"gridcolor\":\"white\",\"linecolor\":\"white\",\"showbackground\":true,\"ticks\":\"\",\"zerolinecolor\":\"white\",\"gridwidth\":2}},\"shapedefaults\":{\"line\":{\"color\":\"#2a3f5f\"}},\"annotationdefaults\":{\"arrowcolor\":\"#2a3f5f\",\"arrowhead\":0,\"arrowwidth\":1},\"geo\":{\"bgcolor\":\"white\",\"landcolor\":\"#E5ECF6\",\"subunitcolor\":\"white\",\"showland\":true,\"showlakes\":true,\"lakecolor\":\"white\"},\"title\":{\"x\":0.05},\"mapbox\":{\"style\":\"light\"}}},\"xaxis\":{\"anchor\":\"y\",\"domain\":[0.0,1.0],\"title\":{\"text\":\"Acccident_City\"}},\"yaxis\":{\"anchor\":\"x\",\"domain\":[0.0,1.0],\"title\":{\"text\":\"Fraud_Count\"}},\"legend\":{\"tracegroupgap\":0},\"title\":{\"text\":\"Top Cities by Fraud Count\"},\"barmode\":\"relative\"},                        {\"responsive\": true}                    ).then(function(){\n",
              "                            \n",
              "var gd = document.getElementById('469475e9-4600-4cad-ad57-5d8c1c0c9f47');\n",
              "var x = new MutationObserver(function (mutations, observer) {{\n",
              "        var display = window.getComputedStyle(gd).display;\n",
              "        if (!display || display === 'none') {{\n",
              "            console.log([gd, 'removed!']);\n",
              "            Plotly.purge(gd);\n",
              "            observer.disconnect();\n",
              "        }}\n",
              "}});\n",
              "\n",
              "// Listen for the removal of the full notebook cells\n",
              "var notebookContainer = gd.closest('#notebook-container');\n",
              "if (notebookContainer) {{\n",
              "    x.observe(notebookContainer, {childList: true});\n",
              "}}\n",
              "\n",
              "// Listen for the clearing of the current output cell\n",
              "var outputEl = gd.closest('.output');\n",
              "if (outputEl) {{\n",
              "    x.observe(outputEl, {childList: true});\n",
              "}}\n",
              "\n",
              "                        })                };                            </script>        </div>\n",
              "</body>\n",
              "</html>"
            ]
          },
          "metadata": {}
        }
      ]
    },
    {
      "cell_type": "code",
      "source": [],
      "metadata": {
        "id": "I-spcW8PmK8c"
      },
      "execution_count": null,
      "outputs": []
    },
    {
      "cell_type": "code",
      "metadata": {
        "id": "7c4b2f43"
      },
      "source": [
        "from google.colab import files\n",
        "uploaded = files.upload()"
      ],
      "execution_count": null,
      "outputs": []
    }
  ]
}